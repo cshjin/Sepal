{
 "cells": [
  {
   "cell_type": "markdown",
   "metadata": {},
   "source": [
    "# Lecture 1: The Learning Problem\n",
    "\n",
    "## What is Learning\n",
    "__The essence of learning__:\n",
    "* pattern\n",
    "* cannot pin it down mathematically\n",
    "* data\n",
    "\n",
    "__Component of learning__:\n",
    "* input: $\\textbf{X}$ \n",
    "* output: $y$\n",
    "* target function: $f: \\mathcal{X} \\rightarrow \\mathcal{Y}$ \n",
    "* data: $(\\textbf(x)_1, y_1), (\\textbf(x)_2, y_2),..., (\\textbf(x)_N, y_N)$\n",
    "* hypothesis: $g: \\mathcal{X}\\rightarrow\\mathcal{Y}$\n",
    "\n",
    "_note_: $\\textbf{X}$ is a feature vector.\n",
    "\n",
    "## Simple Learning Algorithm - PLA\n",
    "Perceptron learning algorithm\n",
    "_TODO_: implementation\n",
    "\n",
    "## Learning Types\n",
    "* Supervised Learning\n",
    "* unsupervised Learning\n",
    "* Reinforcement Learning\n",
    "\n"
   ]
  },
  {
   "cell_type": "code",
   "execution_count": null,
   "metadata": {
    "collapsed": true
   },
   "outputs": [],
   "source": [
    "def pla():\n",
    "    # TODO\n",
    "    pass"
   ]
  }
 ],
 "metadata": {
  "kernelspec": {
   "display_name": "Python 2",
   "language": "python",
   "name": "python2"
  },
  "language_info": {
   "codemirror_mode": {
    "name": "ipython",
    "version": 2
   },
   "file_extension": ".py",
   "mimetype": "text/x-python",
   "name": "python",
   "nbconvert_exporter": "python",
   "pygments_lexer": "ipython2",
   "version": "2.7.11"
  }
 },
 "nbformat": 4,
 "nbformat_minor": 0
}
